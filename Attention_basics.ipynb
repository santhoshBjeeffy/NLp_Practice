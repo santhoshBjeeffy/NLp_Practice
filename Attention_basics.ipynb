{
  "nbformat": 4,
  "nbformat_minor": 0,
  "metadata": {
    "colab": {
      "name": "Attention_basics.ipynb",
      "provenance": [],
      "include_colab_link": true
    },
    "kernelspec": {
      "name": "python3",
      "display_name": "Python 3"
    },
    "accelerator": "GPU"
  },
  "cells": [
    {
      "cell_type": "markdown",
      "metadata": {
        "id": "view-in-github",
        "colab_type": "text"
      },
      "source": [
        "<a href=\"https://colab.research.google.com/github/santhoshBjeeffy/NLp_Practice/blob/master/Attention_basics.ipynb\" target=\"_parent\"><img src=\"https://colab.research.google.com/assets/colab-badge.svg\" alt=\"Open In Colab\"/></a>"
      ]
    },
    {
      "cell_type": "markdown",
      "metadata": {
        "id": "xtUcJt3Yoe7z",
        "colab_type": "text"
      },
      "source": [
        "#Attention Basics\n",
        "\n",
        "Inputs to the scoring function¶\n",
        "Let's start by looking at the inputs we'll give to the scoring function. We will assume we're in the first step in the decoging phase. The first input to the scoring function is the hidden state of decoder (assuming a toy RNN with three hidden nodes -- not usable in real life, but easier to illustrate):"
      ]
    },
    {
      "cell_type": "code",
      "metadata": {
        "id": "Q3_VVJd0m-tA",
        "colab_type": "code",
        "colab": {}
      },
      "source": [
        "dec_hidden_state=[5,1,23]"
      ],
      "execution_count": 0,
      "outputs": []
    },
    {
      "cell_type": "code",
      "metadata": {
        "id": "Ra72-T78pvbg",
        "colab_type": "code",
        "colab": {}
      },
      "source": [
        "#lets visualize this vector\n",
        "%matplotlib inline\n",
        "import numpy as np\n",
        "import matplotlib.pyplot as plt\n",
        "import seaborn as sns"
      ],
      "execution_count": 0,
      "outputs": []
    },
    {
      "cell_type": "code",
      "metadata": {
        "id": "RfVfJd78tgEE",
        "colab_type": "code",
        "colab": {
          "base_uri": "https://localhost:8080/",
          "height": 313
        },
        "outputId": "97fb78a6-5a46-4913-da67-0026af146eef"
      },
      "source": [
        "#lets visualize our decoder hidden state\n",
        "plt.figure(figsize=(1.5,4.5))\n",
        "sns.heatmap(np.transpose(np.matrix(dec_hidden_state)), annot=True,cmap=sns.light_palette(\"purple\",as_cmap=True),linewidths=1)"
      ],
      "execution_count": 5,
      "outputs": [
        {
          "output_type": "execute_result",
          "data": {
            "text/plain": [
              "<matplotlib.axes._subplots.AxesSubplot at 0x7fcbfec188d0>"
            ]
          },
          "metadata": {
            "tags": []
          },
          "execution_count": 5
        },
        {
          "output_type": "display_data",
          "data": {
            "image/png": "[encoded data removed]",
            "text/plain": [
              "<Figure size 108x324 with 2 Axes>"
            ]
          },
          "metadata": {
            "tags": []
          }
        }
      ]
    },
    {
      "cell_type": "code",
      "metadata": {
        "id": "E1fGnLU9uX4d",
        "colab_type": "code",
        "colab": {}
      },
      "source": [
        "#Our first scoring function will score a single annotation (encoder hidden state), which looks like this:\n",
        "annotation=[3,12,15]  #Eg: encoder hidden state"
      ],
      "execution_count": 0,
      "outputs": []
    },
    {
      "cell_type": "code",
      "metadata": {
        "id": "iL-k3bHvvg8r",
        "colab_type": "code",
        "colab": {
          "base_uri": "https://localhost:8080/",
          "height": 313
        },
        "outputId": "ddb998ad-15d0-4585-9bed-6fa360980250"
      },
      "source": [
        "#lets visualize the single anotation\n",
        "plt.figure(figsize=(1.5,4.5))\n",
        "sns.heatmap(np.transpose(np.matrix(annotation)), annot=True,cmap=sns.light_palette(\"orange\",as_cmap=True),linewidths=1)"
      ],
      "execution_count": 9,
      "outputs": [
        {
          "output_type": "execute_result",
          "data": {
            "text/plain": [
              "<matplotlib.axes._subplots.AxesSubplot at 0x7fcbe1b00b38>"
            ]
          },
          "metadata": {
            "tags": []
          },
          "execution_count": 9
        },
        {
          "output_type": "display_data",
          "data": {
            "image/png": "[encoded data removed]",
            "text/plain": [
              "<Figure size 108x324 with 2 Axes>"
            ]
          },
          "metadata": {
            "tags": []
          }
        }
      ]
    },
    {
      "cell_type": "markdown",
      "metadata": {
        "id": "k3je0qq-wBzw",
        "colab_type": "text"
      },
      "source": [
        "\n",
        "IMPLEMENT: Scoring a Single Annotation\n",
        "\n",
        "Let's calculate the dot product of a single annotation. Numpy's dot() is a good candidate for this operation"
      ]
    },
    {
      "cell_type": "code",
      "metadata": {
        "id": "OOuvnrM4vrL6",
        "colab_type": "code",
        "colab": {
          "base_uri": "https://localhost:8080/",
          "height": 34
        },
        "outputId": "ae912842-c97c-4ab3-ec02-7ba536ff8b69"
      },
      "source": [
        "def single_attention(dec_hidden_state,enc_hidden_state):\n",
        "  return np.dot(dec_hidden_state,enc_hidden_state)\n",
        "\n",
        "single_attention(dec_hidden_state,annotation)"
      ],
      "execution_count": 10,
      "outputs": [
        {
          "output_type": "execute_result",
          "data": {
            "text/plain": [
              "372"
            ]
          },
          "metadata": {
            "tags": []
          },
          "execution_count": 10
        }
      ]
    },
    {
      "cell_type": "markdown",
      "metadata": {
        "id": "V23Rl12HxRxy",
        "colab_type": "text"
      },
      "source": [
        "#Annotation matrix\n",
        "Let's now look at scoring all the annotations at once. To do that, here's our annotation matrix:\n",
        "\n"
      ]
    },
    {
      "cell_type": "code",
      "metadata": {
        "id": "iWCI9uwZw2QO",
        "colab_type": "code",
        "colab": {}
      },
      "source": [
        "annotations = np.transpose([[3,12,45], [59,2,5], [1,43,5], [4,3,45.3]])"
      ],
      "execution_count": 0,
      "outputs": []
    },
    {
      "cell_type": "code",
      "metadata": {
        "id": "1f1EoOpdxaP_",
        "colab_type": "code",
        "colab": {
          "base_uri": "https://localhost:8080/",
          "height": 269
        },
        "outputId": "8b2958a7-90d1-45ad-e262-7a0b7f5cd47f"
      },
      "source": [
        "#visualize\n",
        "ax = sns.heatmap(annotations, annot=True, cmap=sns.light_palette(\"orange\", as_cmap=True), linewidths=1)\n"
      ],
      "execution_count": 13,
      "outputs": [
        {
          "output_type": "display_data",
          "data": {
            "image/png": "[encoded data removed]",
            "text/plain": [
              "<Figure size 432x288 with 2 Axes>"
            ]
          },
          "metadata": {
            "tags": []
          }
        }
      ]
    },
    {
      "cell_type": "markdown",
      "metadata": {
        "id": "oojpLftOxp2A",
        "colab_type": "text"
      },
      "source": [
        "#IMPLEMENT: Scoring All Annotations at Once\n",
        "Let's calculate the scores of all the annotations in one step using matrix multiplication. Let's continue to us the dot scoring method\n",
        "\n",
        "\n",
        "\n",
        "To do that, we'll have to transpose dec_hidden_state and matrix multiply it with annotations."
      ]
    },
    {
      "cell_type": "code",
      "metadata": {
        "id": "2ymLK_Hkxfee",
        "colab_type": "code",
        "colab": {
          "base_uri": "https://localhost:8080/",
          "height": 34
        },
        "outputId": "22b70958-aeab-4d4e-d914-eae17f38a7eb"
      },
      "source": [
        "def dot_attention_score(dec_hidden_state,annotations):\n",
        "      # TODO: return the product of dec_hidden_state transpose and enc_hidden_states\n",
        "  return np.matmul(np.transpose(dec_hidden_state),annotations)\n",
        "\n",
        "attention_weights_raw = dot_attention_score(dec_hidden_state, annotations)\n",
        "attention_weights_raw"
      ],
      "execution_count": 16,
      "outputs": [
        {
          "output_type": "execute_result",
          "data": {
            "text/plain": [
              "array([1062. ,  412. ,  163. , 1064.9])"
            ]
          },
          "metadata": {
            "tags": []
          },
          "execution_count": 16
        }
      ]
    },
    {
      "cell_type": "markdown",
      "metadata": {
        "id": "MFGDjnd50pM1",
        "colab_type": "text"
      },
      "source": [
        "Looking at these scores, can you guess which of the four vectors will get the most attention from the decoder at this time step?\n",
        "\n"
      ]
    },
    {
      "cell_type": "markdown",
      "metadata": {
        "id": "8GSVQXYq135Z",
        "colab_type": "text"
      },
      "source": [
        "#Softmax\n",
        "\n",
        "Now that we have our scores, let's apply softmax:"
      ]
    },
    {
      "cell_type": "code",
      "metadata": {
        "id": "x4KxmE32xoUb",
        "colab_type": "code",
        "colab": {
          "base_uri": "https://localhost:8080/",
          "height": 51
        },
        "outputId": "c380001a-b003-461c-f790-05c67f32722b"
      },
      "source": [
        "def softmax(x):\n",
        "  x=np.array(x, dtype=np.float128)\n",
        "  e_x=np.exp(x)\n",
        "  return e_x / e_x.sum(axis=0)\n",
        "\n",
        "attention_weights=softmax(attention_weights_raw)\n",
        "attention_weights"
      ],
      "execution_count": 18,
      "outputs": [
        {
          "output_type": "execute_result",
          "data": {
            "text/plain": [
              "array([5.21535631e-002, 2.66606508e-284, 1.93439318e-392, 9.47846437e-001],\n",
              "      dtype=float128)"
            ]
          },
          "metadata": {
            "tags": []
          },
          "execution_count": 18
        }
      ]
    },
    {
      "cell_type": "markdown",
      "metadata": {
        "id": "zsc7ZtIg3_I4",
        "colab_type": "text"
      },
      "source": [
        "\n",
        "Even when knowing which annotation will get the most focus, it's interesting to see how drastic softmax makes the end score become. The first and last annotation had the respective scores of 927 and 929. But after softmax, the attention they'll get is 0.12 and 0.88 respectively."
      ]
    },
    {
      "cell_type": "markdown",
      "metadata": {
        "id": "JrWiB0YU4Egd",
        "colab_type": "text"
      },
      "source": [
        "#Applying the scores back on the annotations¶\n",
        "\n",
        "Now that we have our scores, let's multiply each annotation by its score to proceed closer to the attention context vector. This is the multiplication part of this formula (we'll tackle the summation part in the latter cells)\n",
        "\n"
      ]
    },
    {
      "cell_type": "code",
      "metadata": {
        "id": "6GVWu6T23vTx",
        "colab_type": "code",
        "colab": {
          "base_uri": "https://localhost:8080/",
          "height": 119
        },
        "outputId": "5806babd-ffd0-4281-d899-4515c6ebe5ad"
      },
      "source": [
        "def apply_attention_scores(attention_weights, annotations):\n",
        "    # TODO: Multiple the annotations by their weights\n",
        "    return attention_weights * annotations\n",
        "\n",
        "applied_attention = apply_attention_scores(attention_weights, annotations)\n",
        "applied_attention"
      ],
      "execution_count": 19,
      "outputs": [
        {
          "output_type": "execute_result",
          "data": {
            "text/plain": [
              "array([[1.56460689e-001, 1.57297840e-282, 1.93439318e-392,\n",
              "        3.79138575e+000],\n",
              "       [6.25842757e-001, 5.33213017e-284, 8.31789069e-391,\n",
              "        2.84353931e+000],\n",
              "       [2.34691034e+000, 1.33303254e-283, 9.67196592e-392,\n",
              "        4.29374436e+001]], dtype=float128)"
            ]
          },
          "metadata": {
            "tags": []
          },
          "execution_count": 19
        }
      ]
    },
    {
      "cell_type": "markdown",
      "metadata": {
        "id": "byRANsb44SuQ",
        "colab_type": "text"
      },
      "source": [
        "Let's visualize how the context vector looks now that we've applied the attention scores back on it:\n",
        "\n"
      ]
    },
    {
      "cell_type": "code",
      "metadata": {
        "id": "IRxJ-w9Y4O7B",
        "colab_type": "code",
        "colab": {
          "base_uri": "https://localhost:8080/",
          "height": 269
        },
        "outputId": "4228b541-9693-44b3-cf48-0e086680f855"
      },
      "source": [
        "# Let's visualize our annotations after applying attention to them\n",
        "ax = sns.heatmap(applied_attention, annot=True, cmap=sns.light_palette(\"orange\", as_cmap=True), linewidths=1)"
      ],
      "execution_count": 20,
      "outputs": [
        {
          "output_type": "display_data",
          "data": {
            "image/png": "[encoded data removed]",
            "text/plain": [
              "<Figure size 432x288 with 2 Axes>"
            ]
          },
          "metadata": {
            "tags": []
          }
        }
      ]
    },
    {
      "cell_type": "markdown",
      "metadata": {
        "id": "l8Ftaleb4Yy4",
        "colab_type": "text"
      },
      "source": [
        "Contrast this with the raw annotations visualized earlier in the notebook, and we can see that the second and third annotations (columns) have been nearly wiped out. The first annotation maintains some of its value, and the fourth annotation is the most pronounced."
      ]
    },
    {
      "cell_type": "markdown",
      "metadata": {
        "id": "psgxlGrX4jRT",
        "colab_type": "text"
      },
      "source": [
        "#Calculating the Attention Context Vector¶\n",
        "All that remains to produce our attention context vector now is to sum up the four columns to produce a single attention context vector\n",
        "\n"
      ]
    },
    {
      "cell_type": "code",
      "metadata": {
        "id": "8ynp_HZk4VyZ",
        "colab_type": "code",
        "colab": {
          "base_uri": "https://localhost:8080/",
          "height": 34
        },
        "outputId": "0f92e9cd-4dd6-4b69-da77-28222dc95f28"
      },
      "source": [
        "def calculate_attention_Vector(applied_attention):\n",
        "  return np.sum(applied_attention,axis=1)\n",
        "\n",
        "attention_vector=calculate_attention_Vector(applied_attention)\n",
        "attention_vector"
      ],
      "execution_count": 21,
      "outputs": [
        {
          "output_type": "execute_result",
          "data": {
            "text/plain": [
              "array([ 3.94784644,  3.46938207, 45.28435393], dtype=float128)"
            ]
          },
          "metadata": {
            "tags": []
          },
          "execution_count": 21
        }
      ]
    },
    {
      "cell_type": "code",
      "metadata": {
        "id": "LKOEwSl24_RW",
        "colab_type": "code",
        "colab": {
          "base_uri": "https://localhost:8080/",
          "height": 313
        },
        "outputId": "71be9878-e6c5-456c-90be-0d90f5eaf919"
      },
      "source": [
        "# Let's visualize the attention context vector\n",
        "plt.figure(figsize=(1.5, 4.5))\n",
        "sns.heatmap(np.transpose(np.matrix(attention_vector)), annot=True, cmap=sns.light_palette(\"Blue\", as_cmap=True), linewidths=1)\n"
      ],
      "execution_count": 22,
      "outputs": [
        {
          "output_type": "execute_result",
          "data": {
            "text/plain": [
              "<matplotlib.axes._subplots.AxesSubplot at 0x7fcbe17294a8>"
            ]
          },
          "metadata": {
            "tags": []
          },
          "execution_count": 22
        },
        {
          "output_type": "display_data",
          "data": {
            "image/png": "[encoded data removed]",
            "text/plain": [
              "<Figure size 108x324 with 2 Axes>"
            ]
          },
          "metadata": {
            "tags": []
          }
        }
      ]
    },
    {
      "cell_type": "markdown",
      "metadata": {
        "id": "F7qgozMq5HG7",
        "colab_type": "text"
      },
      "source": [
        "Now that we have the context vector, we can concatinate it with the hidden state and pass it through a hidden layer to produce the the result of this decoding time step."
      ]
    },
    {
      "cell_type": "code",
      "metadata": {
        "id": "Yko14NXm5CwN",
        "colab_type": "code",
        "colab": {}
      },
      "source": [
        ""
      ],
      "execution_count": 0,
      "outputs": []
    }
  ]
}