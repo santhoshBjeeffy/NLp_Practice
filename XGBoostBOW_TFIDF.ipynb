{
  "nbformat": 4,
  "nbformat_minor": 0,
  "metadata": {
    "colab": {
      "name": "XGBoostBOW_TFIDF.ipynb",
      "provenance": [],
      "collapsed_sections": [],
      "include_colab_link": true
    },
    "kernelspec": {
      "name": "python3",
      "display_name": "Python 3"
    },
    "accelerator": "TPU"
  },
  "cells": [
    {
      "cell_type": "markdown",
      "metadata": {
        "id": "view-in-github",
        "colab_type": "text"
      },
      "source": [
        "<a href=\"https://colab.research.google.com/github/santhoshBjeeffy/NLp_Practice/blob/master/XGBoostBOW_TFIDF.ipynb\" target=\"_parent\"><img src=\"https://colab.research.google.com/assets/colab-badge.svg\" alt=\"Open In Colab\"/></a>"
      ]
    },
    {
      "cell_type": "code",
      "metadata": {
        "id": "0tvxiDgMyv9S",
        "colab_type": "code",
        "colab": {}
      },
      "source": [
        "import pandas as pd\n",
        "from sklearn.feature_extraction.text import TfidfVectorizer,CountVectorizer\n",
        "from sklearn import linear_model\n",
        "import numpy as np\n",
        "from sklearn.model_selection import train_test_split\n",
        "import scipy\n",
        "from sklearn.metrics import log_loss\n",
        "import xgboost as xgb\n",
        "from sklearn.metrics import accuracy_score\n",
        "from sklearn.metrics import roc_auc_score\n",
        "import seaborn as sns\n",
        "import matplotlib.pyplot as plt\n",
        "%matplotlib inline"
      ],
      "execution_count": 0,
      "outputs": []
    },
    {
      "cell_type": "code",
      "metadata": {
        "id": "lz21O2UGHCgl",
        "colab_type": "code",
        "outputId": "fae7c165-ebc7-4001-dfdd-b539f18436f3",
        "colab": {
          "base_uri": "https://localhost:8080/",
          "height": 122
        }
      },
      "source": [
        "from google.colab import drive\n",
        "drive.mount('/content/drive')\n",
        "#4/rwHLDuxehytZIiZJrWeUAYw4pS5Fd5TcGWJJs--ljSfbrXEzmDEaZaI"
      ],
      "execution_count": 2,
      "outputs": [
        {
          "output_type": "stream",
          "text": [
            "Go to this URL in a browser: https://accounts.google.com/o/oauth2/auth?client_id=947318989803-6bn6qk8qdgf4n4g3pfee6491hc0brc4i.apps.googleusercontent.com&redirect_uri=urn%3Aietf%3Awg%3Aoauth%3A2.0%3Aoob&scope=email%20https%3A%2F%2Fwww.googleapis.com%2Fauth%2Fdocs.test%20https%3A%2F%2Fwww.googleapis.com%2Fauth%2Fdrive%20https%3A%2F%2Fwww.googleapis.com%2Fauth%2Fdrive.photos.readonly%20https%3A%2F%2Fwww.googleapis.com%2Fauth%2Fpeopleapi.readonly&response_type=code\n",
            "\n",
            "Enter your authorization code:\n",
            "··········\n",
            "Mounted at /content/drive\n"
          ],
          "name": "stdout"
        }
      ]
    },
    {
      "cell_type": "code",
      "metadata": {
        "id": "tc3pqncKHDIX",
        "colab_type": "code",
        "colab": {
          "base_uri": "https://localhost:8080/",
          "height": 34
        },
        "outputId": "4e728d98-044e-4c2a-be58-b16fefe82fa6"
      },
      "source": [
        "df=pd.read_csv('/content/drive/My Drive/Colab Notebooks/NLP/quora_train.csv')\n",
        "df.head()\n",
        "df.shape"
      ],
      "execution_count": 3,
      "outputs": [
        {
          "output_type": "execute_result",
          "data": {
            "text/plain": [
              "(404290, 6)"
            ]
          },
          "metadata": {
            "tags": []
          },
          "execution_count": 3
        }
      ]
    },
    {
      "cell_type": "code",
      "metadata": {
        "id": "HV9aTEk-HWZn",
        "colab_type": "code",
        "colab": {
          "base_uri": "https://localhost:8080/",
          "height": 289
        },
        "outputId": "4884542c-7ab8-4d2d-fb93-85ef46564222"
      },
      "source": [
        "df=df.dropna(how =\"any\").reset_index(drop=True)\n",
        "df.head()"
      ],
      "execution_count": 4,
      "outputs": [
        {
          "output_type": "execute_result",
          "data": {
            "text/html": [
              "<div>\n",
              "<style scoped>\n",
              "    .dataframe tbody tr th:only-of-type {\n",
              "        vertical-align: middle;\n",
              "    }\n",
              "\n",
              "    .dataframe tbody tr th {\n",
              "        vertical-align: top;\n",
              "    }\n",
              "\n",
              "    .dataframe thead th {\n",
              "        text-align: right;\n",
              "    }\n",
              "</style>\n",
              "<table border=\"1\" class=\"dataframe\">\n",
              "  <thead>\n",
              "    <tr style=\"text-align: right;\">\n",
              "      <th></th>\n",
              "      <th>id</th>\n",
              "      <th>qid1</th>\n",
              "      <th>qid2</th>\n",
              "      <th>question1</th>\n",
              "      <th>question2</th>\n",
              "      <th>is_duplicate</th>\n",
              "    </tr>\n",
              "  </thead>\n",
              "  <tbody>\n",
              "    <tr>\n",
              "      <th>0</th>\n",
              "      <td>0</td>\n",
              "      <td>1</td>\n",
              "      <td>2</td>\n",
              "      <td>What is the step by step guide to invest in sh...</td>\n",
              "      <td>What is the step by step guide to invest in sh...</td>\n",
              "      <td>0</td>\n",
              "    </tr>\n",
              "    <tr>\n",
              "      <th>1</th>\n",
              "      <td>1</td>\n",
              "      <td>3</td>\n",
              "      <td>4</td>\n",
              "      <td>What is the story of Kohinoor (Koh-i-Noor) Dia...</td>\n",
              "      <td>What would happen if the Indian government sto...</td>\n",
              "      <td>0</td>\n",
              "    </tr>\n",
              "    <tr>\n",
              "      <th>2</th>\n",
              "      <td>2</td>\n",
              "      <td>5</td>\n",
              "      <td>6</td>\n",
              "      <td>How can I increase the speed of my internet co...</td>\n",
              "      <td>How can Internet speed be increased by hacking...</td>\n",
              "      <td>0</td>\n",
              "    </tr>\n",
              "    <tr>\n",
              "      <th>3</th>\n",
              "      <td>3</td>\n",
              "      <td>7</td>\n",
              "      <td>8</td>\n",
              "      <td>Why am I mentally very lonely? How can I solve...</td>\n",
              "      <td>Find the remainder when [math]23^{24}[/math] i...</td>\n",
              "      <td>0</td>\n",
              "    </tr>\n",
              "    <tr>\n",
              "      <th>4</th>\n",
              "      <td>4</td>\n",
              "      <td>9</td>\n",
              "      <td>10</td>\n",
              "      <td>Which one dissolve in water quikly sugar, salt...</td>\n",
              "      <td>Which fish would survive in salt water?</td>\n",
              "      <td>0</td>\n",
              "    </tr>\n",
              "  </tbody>\n",
              "</table>\n",
              "</div>"
            ],
            "text/plain": [
              "   id  qid1  ...                                          question2 is_duplicate\n",
              "0   0     1  ...  What is the step by step guide to invest in sh...            0\n",
              "1   1     3  ...  What would happen if the Indian government sto...            0\n",
              "2   2     5  ...  How can Internet speed be increased by hacking...            0\n",
              "3   3     7  ...  Find the remainder when [math]23^{24}[/math] i...            0\n",
              "4   4     9  ...            Which fish would survive in salt water?            0\n",
              "\n",
              "[5 rows x 6 columns]"
            ]
          },
          "metadata": {
            "tags": []
          },
          "execution_count": 4
        }
      ]
    },
    {
      "cell_type": "code",
      "metadata": {
        "id": "pW7q13JUIsw-",
        "colab_type": "code",
        "colab": {
          "base_uri": "https://localhost:8080/",
          "height": 34
        },
        "outputId": "8d1f1a14-f86f-486f-fdce-9be812e5caa4"
      },
      "source": [
        "df.shape"
      ],
      "execution_count": 5,
      "outputs": [
        {
          "output_type": "execute_result",
          "data": {
            "text/plain": [
              "(404287, 6)"
            ]
          },
          "metadata": {
            "tags": []
          },
          "execution_count": 5
        }
      ]
    },
    {
      "cell_type": "code",
      "metadata": {
        "id": "f3owuI5LI1RZ",
        "colab_type": "code",
        "colab": {
          "base_uri": "https://localhost:8080/",
          "height": 297
        },
        "outputId": "1d3a43cd-4f1e-49d5-abc1-4edc1e3df28b"
      },
      "source": [
        "df.groupby('is_duplicate')['id'].count().plot.bar()"
      ],
      "execution_count": 6,
      "outputs": [
        {
          "output_type": "execute_result",
          "data": {
            "text/plain": [
              "<matplotlib.axes._subplots.AxesSubplot at 0x7fe27f117f98>"
            ]
          },
          "metadata": {
            "tags": []
          },
          "execution_count": 6
        },
        {
          "output_type": "display_data",
          "data": {
            "image/png": "[encoded data removed]",
            "text/plain": [
              "<Figure size 432x288 with 1 Axes>"
            ]
          },
          "metadata": {
            "tags": []
          }
        }
      ]
    },
    {
      "cell_type": "code",
      "metadata": {
        "id": "f5oAwAedJOWS",
        "colab_type": "code",
        "colab": {}
      },
      "source": [
        "df.drop(['id','qid1','qid2'],axis=1,inplace=True)"
      ],
      "execution_count": 0,
      "outputs": []
    },
    {
      "cell_type": "code",
      "metadata": {
        "id": "ZthZ4OzpJusK",
        "colab_type": "code",
        "colab": {
          "base_uri": "https://localhost:8080/",
          "height": 527
        },
        "outputId": "d9ffef0c-9871-4a24-ff0a-e8f05042c906"
      },
      "source": [
        "a = 0 \n",
        "for i in range(a,a+10):\n",
        "    print(df.question1[i])\n",
        "    print(df.question2[i])\n",
        "    print()"
      ],
      "execution_count": 8,
      "outputs": [
        {
          "output_type": "stream",
          "text": [
            "What is the step by step guide to invest in share market in india?\n",
            "What is the step by step guide to invest in share market?\n",
            "\n",
            "What is the story of Kohinoor (Koh-i-Noor) Diamond?\n",
            "What would happen if the Indian government stole the Kohinoor (Koh-i-Noor) diamond back?\n",
            "\n",
            "How can I increase the speed of my internet connection while using a VPN?\n",
            "How can Internet speed be increased by hacking through DNS?\n",
            "\n",
            "Why am I mentally very lonely? How can I solve it?\n",
            "Find the remainder when [math]23^{24}[/math] is divided by 24,23?\n",
            "\n",
            "Which one dissolve in water quikly sugar, salt, methane and carbon di oxide?\n",
            "Which fish would survive in salt water?\n",
            "\n",
            "Astrology: I am a Capricorn Sun Cap moon and cap rising...what does that say about me?\n",
            "I'm a triple Capricorn (Sun, Moon and ascendant in Capricorn) What does this say about me?\n",
            "\n",
            "Should I buy tiago?\n",
            "What keeps childern active and far from phone and video games?\n",
            "\n",
            "How can I be a good geologist?\n",
            "What should I do to be a great geologist?\n",
            "\n",
            "When do you use シ instead of し?\n",
            "When do you use \"&\" instead of \"and\"?\n",
            "\n",
            "Motorola (company): Can I hack my Charter Motorolla DCX3400?\n",
            "How do I hack Motorola DCX3400 for free internet?\n",
            "\n"
          ],
          "name": "stdout"
        }
      ]
    },
    {
      "cell_type": "code",
      "metadata": {
        "id": "MwwsfxpEKhkc",
        "colab_type": "code",
        "colab": {}
      },
      "source": [
        "SPECIAL_TOKENS = {\n",
        "    'quoted': 'quoted_item',\n",
        "    'non-ascii': 'non_ascii_word',\n",
        "    'undefined': 'something'\n",
        "}\n",
        "\n",
        "def clean(text, stem_words=True):\n",
        "    import re\n",
        "    from string import punctuation\n",
        "    from nltk.stem import SnowballStemmer\n",
        "    from nltk.corpus import stopwords\n",
        "    \n",
        "    def pad_str(s):\n",
        "        return ' '+s+' '\n",
        "    \n",
        "    if pd.isnull(text):\n",
        "        return ''\n",
        "\n",
        "#    stops = set(stopwords.words(\"english\"))\n",
        "    # Clean the text, with the option to stem words.\n",
        "    \n",
        "    # Empty question\n",
        "    \n",
        "    if type(text) != str or text=='':\n",
        "        return ''\n",
        "\n",
        "    # Clean the text\n",
        "    text = re.sub(\"\\'s\", \" \", text) # we have cases like \"Sam is\" or \"Sam's\" (i.e. his) these two cases aren't separable, I choose to compromise are kill \"'s\" directly\n",
        "    text = re.sub(\" whats \", \" what is \", text, flags=re.IGNORECASE)\n",
        "    text = re.sub(\"\\'ve\", \" have \", text)\n",
        "    text = re.sub(\"can't\", \"can not\", text)\n",
        "    text = re.sub(\"n't\", \" not \", text)\n",
        "    text = re.sub(\"i'm\", \"i am\", text, flags=re.IGNORECASE)\n",
        "    text = re.sub(\"\\'re\", \" are \", text)\n",
        "    text = re.sub(\"\\'d\", \" would \", text)\n",
        "    text = re.sub(\"\\'ll\", \" will \", text)\n",
        "    text = re.sub(\"e\\.g\\.\", \" eg \", text, flags=re.IGNORECASE)\n",
        "    text = re.sub(\"b\\.g\\.\", \" bg \", text, flags=re.IGNORECASE)\n",
        "    text = re.sub(\"(\\d+)(kK)\", \" \\g<1>000 \", text)\n",
        "    text = re.sub(\"e-mail\", \" email \", text, flags=re.IGNORECASE)\n",
        "    text = re.sub(\"(the[\\s]+|The[\\s]+)?U\\.S\\.A\\.\", \" America \", text, flags=re.IGNORECASE)\n",
        "    text = re.sub(\"(the[\\s]+|The[\\s]+)?United State(s)?\", \" America \", text, flags=re.IGNORECASE)\n",
        "    text = re.sub(\"\\(s\\)\", \" \", text, flags=re.IGNORECASE)\n",
        "    text = re.sub(\"[c-fC-F]\\:\\/\", \" disk \", text)\n",
        "    \n",
        "    # remove comma between numbers, i.e. 15,000 -> 15000\n",
        "    \n",
        "    text = re.sub('(?<=[0-9])\\,(?=[0-9])', \"\", text)\n",
        "    \n",
        "#     # all numbers should separate from words, this is too aggressive\n",
        "    \n",
        "#     def pad_number(pattern):\n",
        "#         matched_string = pattern.group(0)\n",
        "#         return pad_str(matched_string)\n",
        "#     text = re.sub('[0-9]+', pad_number, text)\n",
        "    \n",
        "    # add padding to punctuations and special chars, we still need them later\n",
        "    \n",
        "    text = re.sub('\\$', \" dollar \", text)\n",
        "    text = re.sub('\\%', \" percent \", text)\n",
        "    text = re.sub('\\&', \" and \", text)\n",
        "    \n",
        "#    def pad_pattern(pattern):\n",
        "#        matched_string = pattern.group(0)\n",
        "#       return pad_str(matched_string)\n",
        "#    text = re.sub('[\\!\\?\\@\\^\\+\\*\\/\\,\\~\\|\\`\\=\\:\\;\\.\\#\\\\\\]', pad_pattern, text) \n",
        "        \n",
        "    text = re.sub('[^\\x00-\\x7F]+', pad_str(SPECIAL_TOKENS['non-ascii']), text) # replace non-ascii word with special word\n",
        "    \n",
        "    # indian dollar\n",
        "    \n",
        "    text = re.sub(\"(?<=[0-9])rs \", \" rs \", text, flags=re.IGNORECASE)\n",
        "    text = re.sub(\" rs(?=[0-9])\", \" rs \", text, flags=re.IGNORECASE)\n",
        "    \n",
        "    # clean text rules get from : https://www.kaggle.com/currie32/the-importance-of-cleaning-text\n",
        "    text = re.sub(r\" (the[\\s]+|The[\\s]+)?US(A)? \", \" America \", text)\n",
        "    text = re.sub(r\" UK \", \" England \", text, flags=re.IGNORECASE)\n",
        "    text = re.sub(r\" india \", \" India \", text)\n",
        "    text = re.sub(r\" switzerland \", \" Switzerland \", text)\n",
        "    text = re.sub(r\" china \", \" China \", text)\n",
        "    text = re.sub(r\" chinese \", \" Chinese \", text) \n",
        "    text = re.sub(r\" imrovement \", \" improvement \", text, flags=re.IGNORECASE)\n",
        "    text = re.sub(r\" intially \", \" initially \", text, flags=re.IGNORECASE)\n",
        "    text = re.sub(r\" quora \", \" Quora \", text, flags=re.IGNORECASE)\n",
        "    text = re.sub(r\" dms \", \" direct messages \", text, flags=re.IGNORECASE)  \n",
        "    text = re.sub(r\" demonitization \", \" demonetization \", text, flags=re.IGNORECASE) \n",
        "    text = re.sub(r\" actived \", \" active \", text, flags=re.IGNORECASE)\n",
        "    text = re.sub(r\" kms \", \" kilometers \", text, flags=re.IGNORECASE)\n",
        "    text = re.sub(r\" cs \", \" computer science \", text, flags=re.IGNORECASE) \n",
        "    text = re.sub(r\" upvote\", \" up vote\", text, flags=re.IGNORECASE)\n",
        "    text = re.sub(r\" iPhone \", \" phone \", text, flags=re.IGNORECASE)\n",
        "    text = re.sub(r\" \\0rs \", \" rs \", text, flags=re.IGNORECASE)\n",
        "    text = re.sub(r\" calender \", \" calendar \", text, flags=re.IGNORECASE)\n",
        "    text = re.sub(r\" ios \", \" operating system \", text, flags=re.IGNORECASE)\n",
        "    text = re.sub(r\" gps \", \" GPS \", text, flags=re.IGNORECASE)\n",
        "    text = re.sub(r\" gst \", \" GST \", text, flags=re.IGNORECASE)\n",
        "    text = re.sub(r\" programing \", \" programming \", text, flags=re.IGNORECASE)\n",
        "    text = re.sub(r\" bestfriend \", \" best friend \", text, flags=re.IGNORECASE)\n",
        "    text = re.sub(r\" dna \", \" DNA \", text, flags=re.IGNORECASE)\n",
        "    text = re.sub(r\" III \", \" 3 \", text)\n",
        "    text = re.sub(r\" banglore \", \" Banglore \", text, flags=re.IGNORECASE)\n",
        "    text = re.sub(r\" J K \", \" JK \", text, flags=re.IGNORECASE)\n",
        "    text = re.sub(r\" J\\.K\\. \", \" JK \", text, flags=re.IGNORECASE)\n",
        "    \n",
        "    # replace the float numbers with a random number, it will be parsed as number afterward, and also been replaced with word \"number\"\n",
        "    \n",
        "    text = re.sub('[0-9]+\\.[0-9]+', \" 87 \", text)\n",
        "  \n",
        "    \n",
        "    # Remove punctuation from text\n",
        "    text = ''.join([c for c in text if c not in punctuation]).lower()\n",
        "       # Return a list of words\n",
        "    return text"
      ],
      "execution_count": 0,
      "outputs": []
    },
    {
      "cell_type": "code",
      "metadata": {
        "id": "WpCLaDl0KsWO",
        "colab_type": "code",
        "colab": {}
      },
      "source": [
        "\n",
        "df['question1'] = df['question1'].apply(clean)\n",
        "df['question2'] = df['question2'].apply(clean)"
      ],
      "execution_count": 0,
      "outputs": []
    },
    {
      "cell_type": "code",
      "metadata": {
        "id": "v1Rv8qKzKvY8",
        "colab_type": "code",
        "colab": {
          "base_uri": "https://localhost:8080/",
          "height": 527
        },
        "outputId": "421d268b-2e53-45e0-918c-5f1f6e6e6a7b"
      },
      "source": [
        "a = 0 \n",
        "for i in range(a,a+10):\n",
        "    print(df.question1[i])\n",
        "    print(df.question2[i])\n",
        "    print()"
      ],
      "execution_count": 11,
      "outputs": [
        {
          "output_type": "stream",
          "text": [
            "what is the step by step guide to invest in share market in india\n",
            "what is the step by step guide to invest in share market\n",
            "\n",
            "what is the story of kohinoor kohinoor diamond\n",
            "what would happen if the indian government stole the kohinoor kohinoor diamond back\n",
            "\n",
            "how can i increase the speed of my internet connection while using a vpn\n",
            "how can internet speed be increased by hacking through dns\n",
            "\n",
            "why am i mentally very lonely how can i solve it\n",
            "find the remainder when math2324math is divided by 2423\n",
            "\n",
            "which one dissolve in water quikly sugar salt methane and carbon di oxide\n",
            "which fish would survive in salt water\n",
            "\n",
            "astrology i am a capricorn sun cap moon and cap risingwhat does that say about me\n",
            "i am a triple capricorn sun moon and ascendant in capricorn what does this say about me\n",
            "\n",
            "should i buy tiago\n",
            "what keeps childern active and far from phone and video games\n",
            "\n",
            "how can i be a good geologist\n",
            "what should i do to be a great geologist\n",
            "\n",
            "when do you use  nonasciiword  instead of  nonasciiword \n",
            "when do you use  and  instead of and\n",
            "\n",
            "motorola company can i hack my charter motorolla dcx3400\n",
            "how do i hack motorola dcx3400 for free internet\n",
            "\n"
          ],
          "name": "stdout"
        }
      ]
    },
    {
      "cell_type": "markdown",
      "metadata": {
        "id": "1XcKQW74RitU",
        "colab_type": "text"
      },
      "source": [
        "#BOW + Xgboost Model\n",
        "\n"
      ]
    },
    {
      "cell_type": "code",
      "metadata": {
        "id": "71x5VsfZKy_r",
        "colab_type": "code",
        "colab": {}
      },
      "source": [
        "count_vec=CountVectorizer(analyzer='word',token_pattern=r'\\w{1,}')\n",
        "#count_vec.fit(pd.concat((df['question1'],df['question2'].unique())))\n",
        "count_vec.fit(pd.concat((df['question1'],df['question2'])).unique())\n",
        "trainq1_trans=count_vec.transform(df['question1'].values)\n",
        "trainq2_trans=count_vec.transform(df['question2'].values)\n",
        "labels=df['is_duplicate'].values\n",
        "x=scipy.sparse.hstack((trainq1_trans,trainq2_trans))\n",
        "y=labels\n",
        "x_train,x_valid,y_train,y_valid=train_test_split(x,y,test_size=0.33,random_state=42)\n",
        "#xgb_model=xgb.XGBClassifier(max_depth=50,n_estimators=80,learning_rate=0.1,colsample_bytree=.7,gamma=0,\n",
        " #                          reg_alpha=4,objective='binary:Logistic',eta=0.3,\n",
        "  #                         silent=1,subsample=0.8).fit(x_train,y_train)\n",
        "xgb_model = xgb.XGBClassifier(max_depth=50, n_estimators=80, learning_rate=0.1, colsample_bytree=.7, gamma=0, reg_alpha=4, objective='binary:logistic', eta=0.3, silent=1, subsample=0.8).fit(x_train, y_train) \n",
        "\n",
        "xgb_prediction=xgb_model.predict(x_valid)\n"
      ],
      "execution_count": 0,
      "outputs": []
    },
    {
      "cell_type": "code",
      "metadata": {
        "id": "ZTDE2P3-q-7p",
        "colab_type": "code",
        "colab": {
          "base_uri": "https://localhost:8080/",
          "height": 204
        },
        "outputId": "4b4dcc96-57a1-4114-938c-1a83a5f8feae"
      },
      "source": [
        "\n",
        "from sklearn.metrics import f1_score, classification_report, accuracy_score\n",
        "\n",
        "print('training score:', f1_score(y_train, xgb_model.predict(x_train), average='macro'))\n",
        "print('validation score:', f1_score(y_valid, xgb_model.predict(x_valid), average='macro'))\n",
        "print(classification_report(y_valid, xgb_prediction))"
      ],
      "execution_count": 13,
      "outputs": [
        {
          "output_type": "stream",
          "text": [
            "training score: 0.82794751142685\n",
            "validation score: 0.7587822398640196\n",
            "              precision    recall  f1-score   support\n",
            "\n",
            "           0       0.79      0.90      0.84     84267\n",
            "           1       0.78      0.60      0.67     49148\n",
            "\n",
            "    accuracy                           0.79    133415\n",
            "   macro avg       0.78      0.75      0.76    133415\n",
            "weighted avg       0.79      0.79      0.78    133415\n",
            "\n"
          ],
          "name": "stdout"
        }
      ]
    },
    {
      "cell_type": "code",
      "metadata": {
        "id": "wRmHO9IZvZ3S",
        "colab_type": "code",
        "colab": {
          "base_uri": "https://localhost:8080/",
          "height": 88
        },
        "outputId": "fb5dcc43-f2e7-484b-b098-d78354784e02"
      },
      "source": [
        "from sklearn.externals import joblib\n",
        "filename = '/content/drive/My Drive/Colab Notebooks/NLP/BOWXgboost.sav'\n",
        "joblib.dump(xgb_model, filename)"
      ],
      "execution_count": 14,
      "outputs": [
        {
          "output_type": "stream",
          "text": [
            "/usr/local/lib/python3.6/dist-packages/sklearn/externals/joblib/__init__.py:15: DeprecationWarning: sklearn.externals.joblib is deprecated in 0.21 and will be removed in 0.23. Please import this functionality directly from joblib, which can be installed with: pip install joblib. If this warning is raised when loading pickled models, you may need to re-serialize those models with scikit-learn 0.21+.\n",
            "  warnings.warn(msg, category=DeprecationWarning)\n"
          ],
          "name": "stderr"
        },
        {
          "output_type": "execute_result",
          "data": {
            "text/plain": [
              "['/content/drive/My Drive/Colab Notebooks/NLP/BOWXgboost.sav']"
            ]
          },
          "metadata": {
            "tags": []
          },
          "execution_count": 14
        }
      ]
    },
    {
      "cell_type": "code",
      "metadata": {
        "id": "E9TgkgKf118S",
        "colab_type": "code",
        "colab": {
          "base_uri": "https://localhost:8080/",
          "height": 34
        },
        "outputId": "251cbfa1-61b7-44e5-8a93-a70d55605aa4"
      },
      "source": [
        "loaded_model = joblib.load(filename)\n",
        "result = loaded_model.score(x_valid, y_valid)\n",
        "print(result)"
      ],
      "execution_count": 15,
      "outputs": [
        {
          "output_type": "stream",
          "text": [
            "0.7880822995915002\n"
          ],
          "name": "stdout"
        }
      ]
    },
    {
      "cell_type": "code",
      "metadata": {
        "id": "91YMzTfa2ox6",
        "colab_type": "code",
        "colab": {
          "base_uri": "https://localhost:8080/",
          "height": 204
        },
        "outputId": "82ba1daf-8275-4f26-c572-fda7e621d617"
      },
      "source": [
        "from sklearn.metrics import f1_score, classification_report, accuracy_score\n",
        "\n",
        "print('training score:', f1_score(y_train, xgb_model.predict(x_train), average='macro'))\n",
        "print('validation score:', f1_score(y_valid, xgb_model.predict(x_valid), average='macro'))\n",
        "print(classification_report(y_valid, xgb_prediction))"
      ],
      "execution_count": 16,
      "outputs": [
        {
          "output_type": "stream",
          "text": [
            "training score: 0.82794751142685\n",
            "validation score: 0.7587822398640196\n",
            "              precision    recall  f1-score   support\n",
            "\n",
            "           0       0.79      0.90      0.84     84267\n",
            "           1       0.78      0.60      0.67     49148\n",
            "\n",
            "    accuracy                           0.79    133415\n",
            "   macro avg       0.78      0.75      0.76    133415\n",
            "weighted avg       0.79      0.79      0.78    133415\n",
            "\n"
          ],
          "name": "stdout"
        }
      ]
    },
    {
      "cell_type": "markdown",
      "metadata": {
        "id": "m4iqhThgegAe",
        "colab_type": "text"
      },
      "source": [
        "#Word level TDF"
      ]
    },
    {
      "cell_type": "code",
      "metadata": {
        "id": "21nrn4zm3IEO",
        "colab_type": "code",
        "colab": {}
      },
      "source": [
        "tfidf_vec = TfidfVectorizer(analyzer='word',token_pattern=r'\\w{1,}',max_features=5000)\n",
        "tfidf_vec.fit(pd.concat((df['question1'],df['question2'])).unique())\n",
        "train1_trans=tfidf_vec.transform(df['question1'].values)\n",
        "train2_trans=tfidf_vec.transform(df['question2'].values)\n",
        "labels=df['is_duplicate'].values\n",
        "x=scipy.sparse.hstack((train1_trans,train2_trans))\n",
        "y=labels\n",
        "x_train,x_valid,y_train,y_valid = train_test_split(x,y,test_size=0.33,random_state=42)"
      ],
      "execution_count": 0,
      "outputs": []
    },
    {
      "cell_type": "code",
      "metadata": {
        "id": "5bogtay3gSEi",
        "colab_type": "code",
        "colab": {
          "base_uri": "https://localhost:8080/",
          "height": 204
        },
        "outputId": "0687d0ae-6ba7-478c-bffe-67522fc85b4b"
      },
      "source": [
        "from sklearn.metrics import f1_score,classification_report,accuracy_score\n",
        "xgb_model=xgb.XGBClassifier(max_Septh=50,n_estimators=80,learning_rate=0.1,colsample_bytree=.7,gamma=0,\n",
        "                           reg_alpha=4, objective='binary:logistic', eta=0.3, silent=1, subsample=0.8).fit(x_train, y_train) \n",
        "xgb_prediction = xgb_model.predict(x_valid)\n",
        "print('word level tf-idf training score:', f1_score(y_train, xgb_model.predict(x_train), average='macro'))\n",
        "print('word level tf-idf validation score:', f1_score(y_valid, xgb_model.predict(x_valid), average='macro'))\n",
        "print(classification_report(y_valid, xgb_prediction))"
      ],
      "execution_count": 22,
      "outputs": [
        {
          "output_type": "stream",
          "text": [
            "word level tf-idf training score: 0.5770959663177676\n",
            "word level tf-idf validation score: 0.5776622158534593\n",
            "              precision    recall  f1-score   support\n",
            "\n",
            "           0       0.68      0.96      0.80     84267\n",
            "           1       0.76      0.24      0.36     49148\n",
            "\n",
            "    accuracy                           0.69    133415\n",
            "   macro avg       0.72      0.60      0.58    133415\n",
            "weighted avg       0.71      0.69      0.64    133415\n",
            "\n"
          ],
          "name": "stdout"
        }
      ]
    },
    {
      "cell_type": "markdown",
      "metadata": {
        "id": "z2YRC580iMTU",
        "colab_type": "text"
      },
      "source": [
        "#N-gram level TF-IDF"
      ]
    },
    {
      "cell_type": "code",
      "metadata": {
        "id": "M5ziepQ8h0ty",
        "colab_type": "code",
        "colab": {}
      },
      "source": [
        "tfidf_vect_ngram = TfidfVectorizer(analyzer='word', token_pattern=r'\\w{1,}', ngram_range=(2,3), max_features=5000)\n",
        "tfidf_vect_ngram.fit(pd.concat((df['question1'],df['question2'])).unique())\n",
        "trainq1_trans = tfidf_vect_ngram.transform(df['question1'].values)\n",
        "trainq2_trans = tfidf_vect_ngram.transform(df['question2'].values)\n",
        "labels = df['is_duplicate'].values\n",
        "X = scipy.sparse.hstack((trainq1_trans,trainq2_trans))\n",
        "y = labels\n",
        "x_train,x_valid,y_train,y_valid = train_test_split(x,y, test_size = 0.33, random_state = 42)"
      ],
      "execution_count": 0,
      "outputs": []
    },
    {
      "cell_type": "code",
      "metadata": {
        "id": "A3_GGy0Ckl-C",
        "colab_type": "code",
        "colab": {
          "base_uri": "https://localhost:8080/",
          "height": 204
        },
        "outputId": "170eebb3-e497-49b5-b502-ae4b71e0b969"
      },
      "source": [
        "xgb_model = xgb.XGBClassifier(max_depth=50, n_estimators=80, learning_rate=0.1, colsample_bytree=.7, gamma=0, reg_alpha=4, objective='binary:logistic', eta=0.3, silent=1, subsample=0.8).fit(x_train, y_train) \n",
        "xgb_prediction = xgb_model.predict(x_valid)\n",
        "print('n-gram level tf-idf training score:', f1_score(y_train, xgb_model.predict(x_train), average='macro'))\n",
        "print('n-gram level tf-idf validation score:', f1_score(y_valid, xgb_model.predict(x_valid), average='macro'))\n",
        "print(classification_report(y_valid, xgb_prediction))"
      ],
      "execution_count": 26,
      "outputs": [
        {
          "output_type": "stream",
          "text": [
            "n-gram level tf-idf training score: 0.8881877789035716\n",
            "n-gram level tf-idf validation score: 0.7617201122126664\n",
            "              precision    recall  f1-score   support\n",
            "\n",
            "           0       0.80      0.90      0.84     84267\n",
            "           1       0.78      0.60      0.68     49148\n",
            "\n",
            "    accuracy                           0.79    133415\n",
            "   macro avg       0.79      0.75      0.76    133415\n",
            "weighted avg       0.79      0.79      0.78    133415\n",
            "\n"
          ],
          "name": "stdout"
        }
      ]
    },
    {
      "cell_type": "markdown",
      "metadata": {
        "id": "qTBKJn8XlExD",
        "colab_type": "text"
      },
      "source": [
        "#Character level TF-IDF"
      ]
    },
    {
      "cell_type": "code",
      "metadata": {
        "id": "whDwVqTvk9EI",
        "colab_type": "code",
        "colab": {
          "base_uri": "https://localhost:8080/",
          "height": 204
        },
        "outputId": "bc56ed96-6f3f-4bb6-e146-a6bf020cf477"
      },
      "source": [
        "from sklearn.metrics import f1_score, classification_report, accuracy_score\n",
        "tfidf_vect_ngram_chars = TfidfVectorizer(analyzer='char', token_pattern=r'\\w{1,}', ngram_range=(2,3), max_features=5000)\n",
        "tfidf_vect_ngram_chars.fit(pd.concat((df['question1'],df['question2'])).unique())\n",
        "trainq1_trans = tfidf_vect_ngram_chars.transform(df['question1'].values)\n",
        "trainq2_trans = tfidf_vect_ngram_chars.transform(df['question2'].values)\n",
        "labels = df['is_duplicate'].values\n",
        "X = scipy.sparse.hstack((trainq1_trans,trainq2_trans))\n",
        "y = labels\n",
        "x_train,x_valid,y_train,y_valid = train_test_split(x,y, test_size = 0.33, random_state = 42)\n",
        "xgb_model = xgb.XGBClassifier(max_depth=50, n_estimators=80, learning_rate=0.1, colsample_bytree=.7, gamma=0, reg_alpha=4, objective='binary:logistic', eta=0.3, silent=1, subsample=0.8).fit(x_train, y_train) \n",
        "xgb_prediction = xgb_model.predict(x_valid)\n",
        "print('character level tf-idf training score:', f1_score(y_train, xgb_model.predict(x_train), average='macro'))\n",
        "print('character level tf-idf validation score:', f1_score(y_valid, xgb_model.predict(x_valid), average='macro'))\n",
        "print(classification_report(y_valid, xgb_prediction))"
      ],
      "execution_count": 28,
      "outputs": [
        {
          "output_type": "stream",
          "text": [
            "character level tf-idf training score: 0.8881877789035716\n",
            "character level tf-idf validation score: 0.7617201122126664\n",
            "              precision    recall  f1-score   support\n",
            "\n",
            "           0       0.80      0.90      0.84     84267\n",
            "           1       0.78      0.60      0.68     49148\n",
            "\n",
            "    accuracy                           0.79    133415\n",
            "   macro avg       0.79      0.75      0.76    133415\n",
            "weighted avg       0.79      0.79      0.78    133415\n",
            "\n"
          ],
          "name": "stdout"
        }
      ]
    },
    {
      "cell_type": "code",
      "metadata": {
        "id": "1dBRmCGvlrNf",
        "colab_type": "code",
        "colab": {}
      },
      "source": [
        ""
      ],
      "execution_count": 0,
      "outputs": []
    }
  ]
}