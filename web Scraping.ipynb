{
 "cells": [
  {
   "cell_type": "code",
   "execution_count": 1,
   "metadata": {},
   "outputs": [],
   "source": [
    "#Beautifull soup\n",
    "#requests\n"
   ]
  },
  {
   "cell_type": "code",
   "execution_count": 2,
   "metadata": {},
   "outputs": [],
   "source": [
    "import requests\n",
    "from bs4 import BeautifulSoup"
   ]
  },
  {
   "cell_type": "code",
   "execution_count": 3,
   "metadata": {},
   "outputs": [],
   "source": [
    "url='https://www.ratemyprofessors.com/ShowRatings.jsp?tid=1986099'"
   ]
  },
  {
   "cell_type": "code",
   "execution_count": 5,
   "metadata": {},
   "outputs": [
    {
     "data": {
      "text/plain": [
       "<Response [200]>"
      ]
     },
     "execution_count": 5,
     "metadata": {},
     "output_type": "execute_result"
    }
   ],
   "source": [
    "#making requests to the website\n",
    "page=requests.get(url)\n",
    "page\n",
    "\n",
    "#if you get respinse 200 then its sucess"
   ]
  },
  {
   "cell_type": "code",
   "execution_count": 9,
   "metadata": {},
   "outputs": [],
   "source": [
    "#using Beautifull soup library to get html data from website by passing page.text and html parser.\n",
    "#if we print it will give a huge chunk of data\n",
    "\n",
    "soup=BeautifulSoup(page.text,\"html.parser\")\n",
    "#print(soup)"
   ]
  },
  {
   "cell_type": "code",
   "execution_count": 10,
   "metadata": {},
   "outputs": [
    {
     "name": "stdout",
     "output_type": "stream",
     "text": [
      "[<span class=\"tag-box-choosetags\"> Hilarious <b>(11)</b></span>, <span class=\"tag-box-choosetags\"> Caring <b>(9)</b></span>, <span class=\"tag-box-choosetags\"> Accessible outside class <b>(8)</b></span>, <span class=\"tag-box-choosetags\"> Amazing lectures <b>(5)</b></span>, <span class=\"tag-box-choosetags\"> Clear grading criteria <b>(4)</b></span>, <span class=\"tag-box-choosetags\"> Inspirational <b>(4)</b></span>, <span class=\"tag-box-choosetags\"> Group projects <b>(3)</b></span>, <span class=\"tag-box-choosetags\"> Respected <b>(3)</b></span>, <span class=\"tag-box-choosetags\"> Gives good feedback <b>(2)</b></span>, <span class=\"tag-box-choosetags\"> EXTRA CREDIT <b>(2)</b></span>, <span class=\"tag-box-choosetags\"> Participation matters <b>(1)</b></span>, <span class=\"tag-box-choosetags\"> Lecture heavy <b>(1)</b></span>, <span class=\"tag-box-choosetags\"> Test heavy <b>(1)</b></span>, <span class=\"tag-box-choosetags\"> So many papers <b>(1)</b></span>]\n"
     ]
    }
   ],
   "source": [
    "#using soup.findall method to get the respected tag that we are looking for\n",
    "professor_tags=soup.findAll(\"span\",{\"class\":\"tag-box-choosetags\"})\n",
    "\n",
    "print(professor_tags)"
   ]
  },
  {
   "cell_type": "code",
   "execution_count": 13,
   "metadata": {},
   "outputs": [
    {
     "name": "stdout",
     "output_type": "stream",
     "text": [
      " Hilarious (11)\n",
      " Caring (9)\n",
      " Accessible outside class (8)\n",
      " Amazing lectures (5)\n",
      " Clear grading criteria (4)\n",
      " Inspirational (4)\n",
      " Group projects (3)\n",
      " Respected (3)\n",
      " Gives good feedback (2)\n",
      " EXTRA CREDIT (2)\n",
      " Participation matters (1)\n",
      " Lecture heavy (1)\n",
      " Test heavy (1)\n",
      " So many papers (1)\n"
     ]
    }
   ],
   "source": [
    "#removing all html tags and converting to plain texts\n",
    "for my_tag in professor_tags:\n",
    "    print(my_tag.text)"
   ]
  },
  {
   "cell_type": "code",
   "execution_count": null,
   "metadata": {},
   "outputs": [],
   "source": []
  }
 ],
 "metadata": {
  "kernelspec": {
   "display_name": "Python 3",
   "language": "python",
   "name": "python3"
  },
  "language_info": {
   "codemirror_mode": {
    "name": "ipython",
    "version": 3
   },
   "file_extension": ".py",
   "mimetype": "text/x-python",
   "name": "python",
   "nbconvert_exporter": "python",
   "pygments_lexer": "ipython3",
   "version": "3.5.5"
  }
 },
 "nbformat": 4,
 "nbformat_minor": 2
}
