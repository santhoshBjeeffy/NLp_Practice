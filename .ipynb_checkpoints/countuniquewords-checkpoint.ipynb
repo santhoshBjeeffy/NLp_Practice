{
 "cells": [
  {
   "cell_type": "code",
   "execution_count": 6,
   "metadata": {},
   "outputs": [],
   "source": [
    "def read_doc(filename):\n",
    "    file=open(filename,'r')\n",
    "    text=file.read()\n",
    "    file.close()\n",
    "    return text     "
   ]
  },
  {
   "cell_type": "code",
   "execution_count": 51,
   "metadata": {},
   "outputs": [
    {
     "name": "stdout",
     "output_type": "stream",
     "text": [
      "the original text file\n",
      " As I was waiting, a man came out of a side room, and at a glance I was sure he must be Long John. His left leg was cut off close by the hip, and under the left shoulder he carried a crutch, which he managed with wonderful dexterity, hopping about upon it like a bird. He was very tall and strong, with a face as big as a ham—plain and pale, but intelligent and smiling. Indeed, he seemed in the most cheerful spirits, whistling as he moved about among the tables, with a merry word or a slap on the shoulder for the more favoured of his guests.\n",
      "\n",
      "After converting to lower case\n",
      " as i was waiting, a man came out of a side room, and at a glance i was sure he must be long john. his left leg was cut off close by the hip, and under the left shoulder he carried a crutch, which he managed with wonderful dexterity, hopping about upon it like a bird. he was very tall and strong, with a face as big as a ham—plain and pale, but intelligent and smiling. indeed, he seemed in the most cheerful spirits, whistling as he moved about among the tables, with a merry word or a slap on the shoulder for the more favoured of his guests.\n",
      "\n",
      "After removing the non numeric \n",
      "\n",
      " as i was waiting a man came out of a side room and at a glance i was sure he must be long john his left leg was cut off close by the hip and under the left shoulder he carried a crutch which he managed with wonderful dexterity hopping about upon it like a bird he was very tall and strong with a face as big as a ham plain and pale but intelligent and smiling indeed he seemed in the most cheerful spirits whistling as he moved about among the tables with a merry word or a slap on the shoulder for the more favoured of his guests \n"
     ]
    }
   ],
   "source": [
    "import re\n",
    "\n",
    "filename='D://study/nlp/countwords.txt'\n",
    "text=read_doc(filename)\n",
    "print('the original text file\\n',text)\n",
    "text=text.lower()\n",
    "print('After converting to lower case\\n',text)\n",
    "\n",
    "#To remove alpha numeric using regular expression\n",
    "#By Python definition '\\W == [^a-zA-Z0-9_], which excludes all numbers, letters and _\n",
    "pattern=re.sub(r'\\W+', ' ', text)\n",
    "print(\"After removing the non numeric \\n\\n\", pattern)\n"
   ]
  },
  {
   "cell_type": "code",
   "execution_count": 63,
   "metadata": {},
   "outputs": [
    {
     "name": "stdout",
     "output_type": "stream",
     "text": [
      "['as', 'i', 'was', 'waiting', 'a', 'man', 'came', 'out', 'of', 'a', 'side', 'room', 'and', 'at', 'a', 'glance', 'i', 'was', 'sure', 'he', 'must', 'be', 'long', 'john', 'his', 'left', 'leg', 'was', 'cut', 'off', 'close', 'by', 'the', 'hip', 'and', 'under', 'the', 'left', 'shoulder', 'he', 'carried', 'a', 'crutch', 'which', 'he', 'managed', 'with', 'wonderful', 'dexterity', 'hopping', 'about', 'upon', 'it', 'like', 'a', 'bird', 'he', 'was', 'very', 'tall', 'and', 'strong', 'with', 'a', 'face', 'as', 'big', 'as', 'a', 'ham', 'plain', 'and', 'pale', 'but', 'intelligent', 'and', 'smiling', 'indeed', 'he', 'seemed', 'in', 'the', 'most', 'cheerful', 'spirits', 'whistling', 'as', 'he', 'moved', 'about', 'among', 'the', 'tables', 'with', 'a', 'merry', 'word', 'or', 'a', 'slap', 'on', 'the', 'shoulder', 'for', 'the', 'more', 'favoured', 'of', 'his', 'guests']\n"
     ]
    }
   ],
   "source": [
    "tokens=pattern.split()\n",
    "print(tokens)\n"
   ]
  },
  {
   "cell_type": "code",
   "execution_count": 73,
   "metadata": {},
   "outputs": [
    {
     "name": "stdout",
     "output_type": "stream",
     "text": [
      "spacy veriso is %s 2.1.4\n"
     ]
    }
   ],
   "source": [
    "#remove stop words \n",
    "\n",
    "import spacy\n",
    "\n",
    "print(\"spacy veriso is %s\",(spacy.__version__))\n"
   ]
  },
  {
   "cell_type": "code",
   "execution_count": 98,
   "metadata": {},
   "outputs": [
    {
     "name": "stdout",
     "output_type": "stream",
     "text": [
      "326\n",
      "43\n",
      "['waiting', 'man', 'came', 'room', 'glance', 'sure', 'long', 'john', 'left', 'leg', 'cut', 'close', 'hip', 'left', 'shoulder', 'carried', 'crutch', 'managed', 'wonderful', 'dexterity', 'hopping', 'like', 'bird', 'tall', 'strong', 'face', 'big', 'ham', 'plain', 'pale', 'intelligent', 'smiling', 'cheerful', 'spirits', 'whistling', 'moved', 'tables', 'merry', 'word', 'slap', 'shoulder', 'favoured', 'guests']\n"
     ]
    }
   ],
   "source": [
    "from spacy.lang.en.stop_words import STOP_WORDS\n",
    "print(len(STOP_WORDS))\n",
    "tokens=[w for w in tokens if not w in STOP_WORDS]\n",
    "print(len(tokens))\n",
    "print(tokens)"
   ]
  },
  {
   "cell_type": "code",
   "execution_count": 93,
   "metadata": {},
   "outputs": [
    {
     "name": "stdout",
     "output_type": "stream",
     "text": [
      "179\n",
      "43\n"
     ]
    }
   ],
   "source": [
    "# remove stop words from the above document\n",
    "import nltk\n",
    "from nltk.corpus import stopwords\n",
    "#tokens = [token.text for token in tokens if not token.is_stop]\n",
    "stop_words=set(stopwords.words('english'))\n",
    "print(len(stop_words))\n",
    "tokens=[w for w in tokens if not w in stop_words]\n",
    "print(len(tokens))"
   ]
  },
  {
   "cell_type": "code",
   "execution_count": 114,
   "metadata": {},
   "outputs": [
    {
     "name": "stdout",
     "output_type": "stream",
     "text": [
      "{}\n"
     ]
    }
   ],
   "source": [
    "my_dict={}\n",
    "for line in tokens:\n",
    "    key,value=line.split(\":\")\n",
    "    my_dict[key]=value\n",
    "    \n",
    "print (my_dict)"
   ]
  },
  {
   "cell_type": "code",
   "execution_count": 118,
   "metadata": {},
   "outputs": [
    {
     "data": {
      "text/plain": [
       "\"#POS Tagging\\nimport spacy\\nnlp=spacy.load('en')\\ndoc=nlp(u,'I am learning how to build chatbots')\\nfor token in doc:\\n    print(token.text,token.pos_)\\n\\n\""
      ]
     },
     "execution_count": 118,
     "metadata": {},
     "output_type": "execute_result"
    }
   ],
   "source": [
    "'''#POS Tagging\n",
    "import spacy\n",
    "nlp=spacy.load('en')\n",
    "doc=nlp(u,'I am learning how to build chatbots')\n",
    "for token in doc:\n",
    "    print(token.text,token.pos_)\n",
    "\n",
    "'''"
   ]
  },
  {
   "cell_type": "code",
   "execution_count": 6,
   "metadata": {},
   "outputs": [
    {
     "name": "stdout",
     "output_type": "stream",
     "text": [
      "<html>\r\n",
      "<head><title>403 Forbidden</title></head>\r\n",
      "<body bgcolor=\"white\">\r\n",
      "<center><h1>403 Forbidden</h1></center>\r\n",
      "<hr><center>nginx</center>\r\n",
      "</body>\r\n",
      "</html>\r\n",
      "\n"
     ]
    }
   ],
   "source": [
    "import requests\n",
    "r=requests.get(\"https://machinelearningmastery.com/prepare-movie-review-data-sentiment-analysis/\")\n",
    "print(r.text)"
   ]
  },
  {
   "cell_type": "code",
   "execution_count": 8,
   "metadata": {},
   "outputs": [
    {
     "name": "stdout",
     "output_type": "stream",
     "text": [
      "\r\n",
      "403 Forbidden\r\n",
      "\r\n",
      "403 Forbidden\r\n",
      "nginx\r\n",
      "\r\n",
      "\r\n",
      "\n"
     ]
    }
   ],
   "source": [
    "import re\n",
    "\n",
    "#remove html tags using Regular expression\n",
    "pattern=re.compile(r'<.*?>')\n",
    "print(pattern.sub('',r.text))"
   ]
  },
  {
   "cell_type": "code",
   "execution_count": null,
   "metadata": {},
   "outputs": [],
   "source": []
  }
 ],
 "metadata": {
  "kernelspec": {
   "display_name": "Python 3",
   "language": "python",
   "name": "python3"
  },
  "language_info": {
   "codemirror_mode": {
    "name": "ipython",
    "version": 3
   },
   "file_extension": ".py",
   "mimetype": "text/x-python",
   "name": "python",
   "nbconvert_exporter": "python",
   "pygments_lexer": "ipython3",
   "version": "3.5.5"
  }
 },
 "nbformat": 4,
 "nbformat_minor": 2
}
