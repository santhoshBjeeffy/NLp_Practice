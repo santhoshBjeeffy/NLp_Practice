{
  "nbformat": 4,
  "nbformat_minor": 0,
  "metadata": {
    "colab": {
      "name": "Topic_Modelling.ipynb",
      "provenance": [],
      "collapsed_sections": [],
      "include_colab_link": true
    },
    "kernelspec": {
      "name": "python3",
      "display_name": "Python 3"
    },
    "accelerator": "GPU"
  },
  "cells": [
    {
      "cell_type": "markdown",
      "metadata": {
        "id": "view-in-github",
        "colab_type": "text"
      },
      "source": [
        "<a href=\"https://colab.research.google.com/github/santhoshBjeeffy/NLp_Practice/blob/master/Topic_Modelling.ipynb\" target=\"_parent\"><img src=\"https://colab.research.google.com/assets/colab-badge.svg\" alt=\"Open In Colab\"/></a>"
      ]
    },
    {
      "cell_type": "code",
      "metadata": {
        "id": "TqJCllFoxRGF",
        "colab_type": "code",
        "colab": {}
      },
      "source": [
        "doc1 = \"Sugar is bad to consume. My sister likes to have sugar, but not my father.\"\n",
        "doc2 = \"My father spends a lot of time driving my sister around to dance practice.\"\n",
        "doc3 = \"Doctors suggest that driving may cause increased stress and blood pressure.\"\n",
        "doc4 = \"Sometimes I feel pressure to perform well at school, but my father never seems to drive my sister to do better.\"\n",
        "doc5 = \"Health experts say that Sugar is not good for your lifestyle.\"\n",
        "\n",
        "doc_complete = [doc1, doc2, doc3, doc4, doc5]"
      ],
      "execution_count": 0,
      "outputs": []
    },
    {
      "cell_type": "code",
      "metadata": {
        "id": "QV-C1kVBxqre",
        "colab_type": "code",
        "colab": {
          "base_uri": "https://localhost:8080/",
          "height": 51
        },
        "outputId": "04219488-fa9a-499a-c28b-c74a62c29b07"
      },
      "source": [
        "from nltk.corpus import stopwords\n",
        "from nltk.stem.wordnet import WordNetLemmatizer\n",
        "import string\n",
        "\n",
        "nltk.download('stopwords')\n",
        "stop=set(stopwords.words('english'))\n",
        "exclude=set(string.punctuation)\n",
        "lemma=WordNetLemmatizer()\n",
        "def clean(doc):\n",
        "  stop_words_free= ' '.join([i for i in doc.lower().split() if i not in stop])\n",
        "  punctuation_free=' '.join([c for c in stop_words_free if c not in exclude])\n",
        "  normalized=' '.join(lemma.lemmatize(word) for word in punctuation_free.split())\n",
        "  return normalized\n",
        "\n",
        "doc_clean  = [clean(doc).split() for doc in doc_complete]\n",
        "#nltk.download('wordnet')\n",
        "  "
      ],
      "execution_count": 40,
      "outputs": [
        {
          "output_type": "stream",
          "text": [
            "[nltk_data] Downloading package stopwords to /root/nltk_data...\n",
            "[nltk_data]   Package stopwords is already up-to-date!\n"
          ],
          "name": "stdout"
        }
      ]
    },
    {
      "cell_type": "code",
      "metadata": {
        "id": "7sQpJklUyRtC",
        "colab_type": "code",
        "colab": {}
      },
      "source": [
        "import gensim\n",
        "from gensim import corpora\n",
        "dictionary=corpora.Dictionary(doc_clean)\n",
        "doc_term_matrix=[dictionary.doc2bow(doc) for doc in doc_clean]"
      ],
      "execution_count": 0,
      "outputs": []
    },
    {
      "cell_type": "code",
      "metadata": {
        "id": "hXr5S4cg0tHM",
        "colab_type": "code",
        "colab": {}
      },
      "source": [
        "lda=gensim.models.ldamodel.LdaModel\n",
        "ldamodel=lda(doc_term_matrix,num_topics=3, id2word=dictionary, passes=50)"
      ],
      "execution_count": 0,
      "outputs": []
    },
    {
      "cell_type": "code",
      "metadata": {
        "id": "7BqkeQqd2TVC",
        "colab_type": "code",
        "colab": {
          "base_uri": "https://localhost:8080/",
          "height": 54
        },
        "outputId": "14a77ac3-e819-4813-acaf-9b3ded72fa1e"
      },
      "source": [
        "print(ldamodel.print_topics(num_topics=3,num_words=4))"
      ],
      "execution_count": 39,
      "outputs": [
        {
          "output_type": "stream",
          "text": [
            "[(0, '0.045*\"father\" + 0.045*\"sister\" + 0.045*\"pressure\" + 0.045*\"school\"'), (1, '0.065*\"sister\" + 0.065*\"father\" + 0.065*\"driving\" + 0.064*\"lot\"'), (2, '0.085*\"sugar\" + 0.048*\"stress\" + 0.048*\"suggest\" + 0.048*\"cause\"')]\n"
          ],
          "name": "stdout"
        }
      ]
    },
    {
      "cell_type": "code",
      "metadata": {
        "id": "-UVjDT6H2l0a",
        "colab_type": "code",
        "colab": {}
      },
      "source": [
        "from nltk.corpus import stopwords\n",
        "from nltk.stem.wordnet import WordNetLemmatizer\n",
        "import string\n",
        "stop = set(stopwords.words('english'))\n",
        "exclude = set(string.punctuation)\n",
        "lemma = WordNetLemmatizer()\n",
        "\n",
        "def clean(doc):\n",
        "    stop_free = ' '.join([i for i in doc.lower().split() if i not in stop])\n",
        "    punc_free = ''.join([ch for ch in stop_free if ch not in exclude])\n",
        "    normalized = ' '.join(lemma.lemmatize(word) for word in punc_free.split())\n",
        "    return normalized\n",
        "doc_clean = [clean(doc).split() for doc in doc_complete]"
      ],
      "execution_count": 0,
      "outputs": []
    },
    {
      "cell_type": "code",
      "metadata": {
        "id": "wyK7jvmO3CDZ",
        "colab_type": "code",
        "colab": {}
      },
      "source": [
        "import gensim\n",
        "from gensim import corpora\n",
        "dictionary = corpora.Dictionary(doc_clean)\n",
        "doc_term_matrix = [dictionary.doc2bow(doc) for doc in doc_clean]"
      ],
      "execution_count": 0,
      "outputs": []
    },
    {
      "cell_type": "code",
      "metadata": {
        "id": "ArUHz9ay4O9B",
        "colab_type": "code",
        "colab": {}
      },
      "source": [
        "Lda = gensim.models.ldamodel.LdaModel\n",
        "ldamodel = Lda(doc_term_matrix, num_topics = 3, id2word = dictionary, passes=50)"
      ],
      "execution_count": 0,
      "outputs": []
    },
    {
      "cell_type": "code",
      "metadata": {
        "id": "FPxcYs4C4RZ5",
        "colab_type": "code",
        "colab": {
          "base_uri": "https://localhost:8080/",
          "height": 54
        },
        "outputId": "18405832-31d6-4286-a7dc-6d5ee35c3f0b"
      },
      "source": [
        "print(ldamodel.print_topics(num_topics=3, num_words=4))\n"
      ],
      "execution_count": 35,
      "outputs": [
        {
          "output_type": "stream",
          "text": [
            "[(0, '0.075*\"health\" + 0.075*\"good\" + 0.075*\"say\" + 0.075*\"lifestyle\"'), (1, '0.056*\"pressure\" + 0.056*\"driving\" + 0.056*\"sister\" + 0.056*\"father\"'), (2, '0.125*\"sugar\" + 0.071*\"father\" + 0.071*\"sister\" + 0.071*\"consume\"')]\n"
          ],
          "name": "stdout"
        }
      ]
    },
    {
      "cell_type": "code",
      "metadata": {
        "id": "3cKMLIWN4T6M",
        "colab_type": "code",
        "colab": {}
      },
      "source": [
        ""
      ],
      "execution_count": 0,
      "outputs": []
    }
  ]
}